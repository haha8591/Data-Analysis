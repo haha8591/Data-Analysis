{
 "cells": [
  {
   "cell_type": "code",
   "execution_count": 1,
   "id": "666b7b2a",
   "metadata": {
    "scrolled": true
   },
   "outputs": [
    {
     "name": "stdout",
     "output_type": "stream",
     "text": [
      "Defaulting to user installation because normal site-packages is not writeable\n",
      "Requirement already satisfied: quandl in c:\\users\\user\\appdata\\roaming\\python\\python39\\site-packages (3.7.0)\n",
      "Requirement already satisfied: numpy in c:\\users\\user\\appdata\\roaming\\python\\python39\\site-packages (1.24.0)\n",
      "Requirement already satisfied: pandas in c:\\users\\user\\appdata\\roaming\\python\\python39\\site-packages (1.5.2)\n",
      "Requirement already satisfied: matplotlib in c:\\users\\user\\appdata\\roaming\\python\\python39\\site-packages (3.6.2)\n",
      "Requirement already satisfied: pystan in c:\\users\\user\\appdata\\roaming\\python\\python39\\site-packages (2.19.1.1)\n",
      "Collecting pystan\n",
      "  Using cached pystan-3.6.0-py3-none-any.whl (13 kB)\n",
      "Requirement already satisfied: pytrends in c:\\users\\user\\appdata\\roaming\\python\\python39\\site-packages (4.8.0)\n",
      "Requirement already satisfied: plotly in c:\\users\\user\\appdata\\roaming\\python\\python39\\site-packages (5.11.0)\n",
      "Requirement already satisfied: more-itertools in c:\\users\\user\\appdata\\roaming\\python\\python39\\site-packages (from quandl) (9.0.0)\n",
      "Requirement already satisfied: inflection>=0.3.1 in d:\\anaconda3\\lib\\site-packages (from quandl) (0.5.1)\n",
      "Requirement already satisfied: python-dateutil in d:\\anaconda3\\lib\\site-packages (from quandl) (2.8.2)\n",
      "Requirement already satisfied: six in d:\\anaconda3\\lib\\site-packages (from quandl) (1.16.0)\n",
      "Requirement already satisfied: requests>=2.7.0 in d:\\anaconda3\\lib\\site-packages (from quandl) (2.28.1)\n",
      "Requirement already satisfied: pytz>=2020.1 in c:\\users\\user\\appdata\\roaming\\python\\python39\\site-packages (from pandas) (2022.7)\n",
      "Requirement already satisfied: packaging>=20.0 in d:\\anaconda3\\lib\\site-packages (from matplotlib) (21.3)\n",
      "Requirement already satisfied: pyparsing>=2.2.1 in d:\\anaconda3\\lib\\site-packages (from matplotlib) (3.0.9)\n",
      "Requirement already satisfied: pillow>=6.2.0 in d:\\anaconda3\\lib\\site-packages (from matplotlib) (9.2.0)\n",
      "Requirement already satisfied: kiwisolver>=1.0.1 in d:\\anaconda3\\lib\\site-packages (from matplotlib) (1.4.2)\n",
      "Requirement already satisfied: fonttools>=4.22.0 in d:\\anaconda3\\lib\\site-packages (from matplotlib) (4.25.0)\n",
      "Requirement already satisfied: contourpy>=1.0.1 in c:\\users\\user\\appdata\\roaming\\python\\python39\\site-packages (from matplotlib) (1.0.6)\n",
      "Requirement already satisfied: cycler>=0.10 in d:\\anaconda3\\lib\\site-packages (from matplotlib) (0.11.0)\n",
      "Collecting pysimdjson<6.0.0,>=5.0.2\n",
      "  Using cached pysimdjson-5.0.2-cp39-cp39-win_amd64.whl (156 kB)\n",
      "Collecting pystan\n",
      "  Using cached pystan-3.5.0-py3-none-any.whl (13 kB)\n",
      "Requirement already satisfied: setuptools in d:\\anaconda3\\lib\\site-packages (from pystan) (65.5.0)\n",
      "Collecting pysimdjson<4.0,>=3.2\n",
      "  Using cached pysimdjson-3.2.0-cp39-cp39-win_amd64.whl (157 kB)\n",
      "Collecting pystan\n",
      "  Using cached pystan-3.4.0-py3-none-any.whl (13 kB)\n",
      "  Using cached pystan-3.3.0-py3-none-any.whl (13 kB)\n",
      "Collecting aiohttp<4.0,>=3.6\n",
      "  Using cached aiohttp-3.8.3-cp39-cp39-win_amd64.whl (323 kB)\n",
      "Collecting clikit<0.7,>=0.6\n",
      "  Using cached clikit-0.6.2-py2.py3-none-any.whl (91 kB)\n",
      "Collecting pystan\n",
      "  Using cached pystan-3.2.0-py3-none-any.whl (13 kB)\n",
      "  Using cached pystan-3.1.1-py3-none-any.whl (13 kB)\n",
      "  Using cached pystan-3.1.0-py3-none-any.whl (13 kB)\n",
      "  Using cached pystan-3.0.2-py3-none-any.whl (13 kB)\n",
      "  Using cached pystan-3.0.1-py3-none-any.whl (12 kB)\n",
      "  Using cached pystan-3.0.0-py3-none-any.whl (12 kB)\n",
      "Requirement already satisfied: Cython!=0.25.1,>=0.22 in d:\\anaconda3\\lib\\site-packages (from pystan) (0.29.32)\n",
      "Requirement already satisfied: lxml in d:\\anaconda3\\lib\\site-packages (from pytrends) (4.9.1)\n",
      "Requirement already satisfied: tenacity>=6.2.0 in d:\\anaconda3\\lib\\site-packages (from plotly) (8.0.1)\n",
      "Requirement already satisfied: urllib3<1.27,>=1.21.1 in d:\\anaconda3\\lib\\site-packages (from requests>=2.7.0->quandl) (1.26.12)\n",
      "Requirement already satisfied: charset-normalizer<3,>=2 in d:\\anaconda3\\lib\\site-packages (from requests>=2.7.0->quandl) (2.0.4)\n",
      "Requirement already satisfied: certifi>=2017.4.17 in d:\\anaconda3\\lib\\site-packages (from requests>=2.7.0->quandl) (2022.6.15)\n",
      "Requirement already satisfied: idna<4,>=2.5 in d:\\anaconda3\\lib\\site-packages (from requests>=2.7.0->quandl) (3.4)\n"
     ]
    }
   ],
   "source": [
    "!pip install -U quandl numpy pandas matplotlib pystan pytrends plotly"
   ]
  },
  {
   "cell_type": "code",
   "execution_count": 2,
   "id": "acd7ee9a",
   "metadata": {},
   "outputs": [
    {
     "name": "stdout",
     "output_type": "stream",
     "text": [
      "Defaulting to user installation because normal site-packages is not writeable\n",
      "Collecting prophet\n",
      "  Downloading prophet-1.1.1-cp39-cp39-win_amd64.whl (12.1 MB)\n",
      "     ---------------------------------------- 12.1/12.1 MB 2.0 MB/s eta 0:00:00\n",
      "Collecting convertdate>=2.1.2\n",
      "  Downloading convertdate-2.4.0-py3-none-any.whl (47 kB)\n",
      "     ---------------------------------------- 47.9/47.9 kB 1.2 MB/s eta 0:00:00\n",
      "Requirement already satisfied: numpy>=1.15.4 in c:\\users\\user\\appdata\\roaming\\python\\python39\\site-packages (from prophet) (1.24.0)\n",
      "Requirement already satisfied: pandas>=1.0.4 in c:\\users\\user\\appdata\\roaming\\python\\python39\\site-packages (from prophet) (1.5.2)\n",
      "Requirement already satisfied: tqdm>=4.36.1 in d:\\anaconda3\\lib\\site-packages (from prophet) (4.64.1)\n",
      "Requirement already satisfied: setuptools>=42 in d:\\anaconda3\\lib\\site-packages (from prophet) (65.5.0)\n",
      "Collecting LunarCalendar>=0.0.9\n",
      "  Downloading LunarCalendar-0.0.9-py2.py3-none-any.whl (18 kB)\n",
      "Collecting cmdstanpy>=1.0.4\n",
      "  Downloading cmdstanpy-1.0.8-py3-none-any.whl (81 kB)\n",
      "     ---------------------------------------- 81.2/81.2 kB 1.5 MB/s eta 0:00:00\n",
      "Collecting holidays>=0.14.2\n",
      "  Downloading holidays-0.17.2-py3-none-any.whl (187 kB)\n",
      "     -------------------------------------- 187.5/187.5 kB 1.9 MB/s eta 0:00:00\n",
      "Requirement already satisfied: matplotlib>=2.0.0 in c:\\users\\user\\appdata\\roaming\\python\\python39\\site-packages (from prophet) (3.6.2)\n",
      "Requirement already satisfied: wheel>=0.37.0 in d:\\anaconda3\\lib\\site-packages (from prophet) (0.37.1)\n",
      "Requirement already satisfied: python-dateutil>=2.8.0 in d:\\anaconda3\\lib\\site-packages (from prophet) (2.8.2)\n",
      "Collecting setuptools-git>=1.2\n",
      "  Downloading setuptools_git-1.2-py2.py3-none-any.whl (10 kB)\n",
      "Collecting pymeeus<=1,>=0.3.13\n",
      "  Downloading PyMeeus-0.5.12.tar.gz (5.8 MB)\n",
      "     ---------------------------------------- 5.8/5.8 MB 2.0 MB/s eta 0:00:00\n",
      "  Preparing metadata (setup.py): started\n",
      "  Preparing metadata (setup.py): finished with status 'done'\n",
      "Collecting hijri-converter\n",
      "  Downloading hijri_converter-2.2.4-py3-none-any.whl (14 kB)\n",
      "Collecting korean-lunar-calendar\n",
      "  Downloading korean_lunar_calendar-0.3.1-py3-none-any.whl (9.0 kB)\n",
      "Requirement already satisfied: pytz in c:\\users\\user\\appdata\\roaming\\python\\python39\\site-packages (from LunarCalendar>=0.0.9->prophet) (2022.7)\n",
      "Collecting ephem>=3.7.5.3\n",
      "  Downloading ephem-4.1.4-cp39-cp39-win_amd64.whl (1.4 MB)\n",
      "     ---------------------------------------- 1.4/1.4 MB 1.7 MB/s eta 0:00:00\n",
      "Requirement already satisfied: fonttools>=4.22.0 in d:\\anaconda3\\lib\\site-packages (from matplotlib>=2.0.0->prophet) (4.25.0)\n",
      "Requirement already satisfied: pillow>=6.2.0 in d:\\anaconda3\\lib\\site-packages (from matplotlib>=2.0.0->prophet) (9.2.0)\n",
      "Requirement already satisfied: contourpy>=1.0.1 in c:\\users\\user\\appdata\\roaming\\python\\python39\\site-packages (from matplotlib>=2.0.0->prophet) (1.0.6)\n",
      "Requirement already satisfied: packaging>=20.0 in d:\\anaconda3\\lib\\site-packages (from matplotlib>=2.0.0->prophet) (21.3)\n",
      "Requirement already satisfied: pyparsing>=2.2.1 in d:\\anaconda3\\lib\\site-packages (from matplotlib>=2.0.0->prophet) (3.0.9)\n",
      "Requirement already satisfied: cycler>=0.10 in d:\\anaconda3\\lib\\site-packages (from matplotlib>=2.0.0->prophet) (0.11.0)\n",
      "Requirement already satisfied: kiwisolver>=1.0.1 in d:\\anaconda3\\lib\\site-packages (from matplotlib>=2.0.0->prophet) (1.4.2)\n",
      "Requirement already satisfied: six>=1.5 in d:\\anaconda3\\lib\\site-packages (from python-dateutil>=2.8.0->prophet) (1.16.0)\n",
      "Requirement already satisfied: colorama in d:\\anaconda3\\lib\\site-packages (from tqdm>=4.36.1->prophet) (0.4.5)\n",
      "Building wheels for collected packages: pymeeus\n",
      "  Building wheel for pymeeus (setup.py): started\n",
      "  Building wheel for pymeeus (setup.py): finished with status 'done'\n",
      "  Created wheel for pymeeus: filename=PyMeeus-0.5.12-py3-none-any.whl size=732001 sha256=fe0231eecc2de4fe75000a2f38201b8a2fb55534fb2f1618ac487ec512254d7f\n",
      "  Stored in directory: c:\\users\\user\\appdata\\local\\pip\\cache\\wheels\\04\\1f\\e5\\8dd0c661cd8d252817655dc14a84f7ae045d6616594145aa81\n",
      "Successfully built pymeeus\n",
      "Installing collected packages: setuptools-git, pymeeus, korean-lunar-calendar, ephem, hijri-converter, convertdate, LunarCalendar, holidays, cmdstanpy, prophet\n",
      "Successfully installed LunarCalendar-0.0.9 cmdstanpy-1.0.8 convertdate-2.4.0 ephem-4.1.4 hijri-converter-2.2.4 holidays-0.17.2 korean-lunar-calendar-0.3.1 prophet-1.1.1 pymeeus-0.5.12 setuptools-git-1.2\n"
     ]
    },
    {
     "name": "stderr",
     "output_type": "stream",
     "text": [
      "  WARNING: The script censusgeocode.exe is installed in 'C:\\Users\\user\\AppData\\Roaming\\Python\\Python39\\Scripts' which is not on PATH.\n",
      "  Consider adding this directory to PATH or, if you prefer to suppress this warning, use --no-warn-script-location.\n",
      "  WARNING: The script lunar-find.exe is installed in 'C:\\Users\\user\\AppData\\Roaming\\Python\\Python39\\Scripts' which is not on PATH.\n",
      "  Consider adding this directory to PATH or, if you prefer to suppress this warning, use --no-warn-script-location.\n",
      "  WARNING: The scripts install_cmdstan.exe and install_cxx_toolchain.exe are installed in 'C:\\Users\\user\\AppData\\Roaming\\Python\\Python39\\Scripts' which is not on PATH.\n",
      "  Consider adding this directory to PATH or, if you prefer to suppress this warning, use --no-warn-script-location.\n"
     ]
    }
   ],
   "source": [
    "!pip install prophet"
   ]
  },
  {
   "cell_type": "code",
   "execution_count": 3,
   "id": "803d91f7",
   "metadata": {},
   "outputs": [
    {
     "name": "stdout",
     "output_type": "stream",
     "text": [
      "Defaulting to user installation because normal site-packages is not writeable\n",
      "Collecting stocker\n",
      "  Using cached stocker-0.1.11-py3-none-any.whl (8.0 kB)\n",
      "Requirement already satisfied: yfinance in c:\\users\\user\\appdata\\roaming\\python\\python39\\site-packages (from stocker) (0.2.3)\n",
      "Requirement already satisfied: scikit-learn in d:\\anaconda3\\lib\\site-packages (from stocker) (1.0.2)\n",
      "Requirement already satisfied: numpy in c:\\users\\user\\appdata\\roaming\\python\\python39\\site-packages (from stocker) (1.24.0)\n",
      "Collecting tensorflow\n",
      "  Using cached tensorflow-2.11.0-cp39-cp39-win_amd64.whl (1.9 kB)\n",
      "Requirement already satisfied: pytrends in c:\\users\\user\\appdata\\roaming\\python\\python39\\site-packages (from stocker) (4.8.0)\n",
      "Requirement already satisfied: requests in d:\\anaconda3\\lib\\site-packages (from stocker) (2.28.1)\n",
      "Requirement already satisfied: pandas in c:\\users\\user\\appdata\\roaming\\python\\python39\\site-packages (from stocker) (1.5.2)\n",
      "Requirement already satisfied: matplotlib in c:\\users\\user\\appdata\\roaming\\python\\python39\\site-packages (from stocker) (3.6.2)\n",
      "Requirement already satisfied: packaging>=20.0 in d:\\anaconda3\\lib\\site-packages (from matplotlib->stocker) (21.3)\n",
      "Requirement already satisfied: cycler>=0.10 in d:\\anaconda3\\lib\\site-packages (from matplotlib->stocker) (0.11.0)\n",
      "Requirement already satisfied: pyparsing>=2.2.1 in d:\\anaconda3\\lib\\site-packages (from matplotlib->stocker) (3.0.9)\n",
      "Requirement already satisfied: python-dateutil>=2.7 in d:\\anaconda3\\lib\\site-packages (from matplotlib->stocker) (2.8.2)\n",
      "Requirement already satisfied: pillow>=6.2.0 in d:\\anaconda3\\lib\\site-packages (from matplotlib->stocker) (9.2.0)\n",
      "Requirement already satisfied: fonttools>=4.22.0 in d:\\anaconda3\\lib\\site-packages (from matplotlib->stocker) (4.25.0)\n",
      "Requirement already satisfied: contourpy>=1.0.1 in c:\\users\\user\\appdata\\roaming\\python\\python39\\site-packages (from matplotlib->stocker) (1.0.6)\n",
      "Requirement already satisfied: kiwisolver>=1.0.1 in d:\\anaconda3\\lib\\site-packages (from matplotlib->stocker) (1.4.2)\n",
      "Requirement already satisfied: pytz>=2020.1 in c:\\users\\user\\appdata\\roaming\\python\\python39\\site-packages (from pandas->stocker) (2022.7)\n",
      "Requirement already satisfied: lxml in d:\\anaconda3\\lib\\site-packages (from pytrends->stocker) (4.9.1)\n",
      "Requirement already satisfied: urllib3<1.27,>=1.21.1 in d:\\anaconda3\\lib\\site-packages (from requests->stocker) (1.26.12)\n",
      "Requirement already satisfied: certifi>=2017.4.17 in d:\\anaconda3\\lib\\site-packages (from requests->stocker) (2022.6.15)\n",
      "Requirement already satisfied: idna<4,>=2.5 in d:\\anaconda3\\lib\\site-packages (from requests->stocker) (3.4)\n",
      "Requirement already satisfied: charset-normalizer<3,>=2 in d:\\anaconda3\\lib\\site-packages (from requests->stocker) (2.0.4)\n",
      "Requirement already satisfied: threadpoolctl>=2.0.0 in d:\\anaconda3\\lib\\site-packages (from scikit-learn->stocker) (2.2.0)\n",
      "Requirement already satisfied: scipy>=1.1.0 in d:\\anaconda3\\lib\\site-packages (from scikit-learn->stocker) (1.9.3)\n",
      "Requirement already satisfied: joblib>=0.11 in d:\\anaconda3\\lib\\site-packages (from scikit-learn->stocker) (1.1.1)\n",
      "Collecting tensorflow-intel==2.11.0\n",
      "  Using cached tensorflow_intel-2.11.0-cp39-cp39-win_amd64.whl (266.3 MB)\n",
      "Requirement already satisfied: protobuf<3.20,>=3.9.2 in c:\\users\\user\\appdata\\roaming\\python\\python39\\site-packages (from tensorflow-intel==2.11.0->tensorflow->stocker) (3.19.6)\n",
      "Requirement already satisfied: h5py>=2.9.0 in d:\\anaconda3\\lib\\site-packages (from tensorflow-intel==2.11.0->tensorflow->stocker) (3.7.0)\n",
      "Requirement already satisfied: tensorflow-estimator<2.12,>=2.11.0 in c:\\users\\user\\appdata\\roaming\\python\\python39\\site-packages (from tensorflow-intel==2.11.0->tensorflow->stocker) (2.11.0)\n",
      "Requirement already satisfied: tensorboard<2.12,>=2.11 in c:\\users\\user\\appdata\\roaming\\python\\python39\\site-packages (from tensorflow-intel==2.11.0->tensorflow->stocker) (2.11.0)\n",
      "Requirement already satisfied: google-pasta>=0.1.1 in c:\\users\\user\\appdata\\roaming\\python\\python39\\site-packages (from tensorflow-intel==2.11.0->tensorflow->stocker) (0.2.0)\n",
      "Requirement already satisfied: tensorflow-io-gcs-filesystem>=0.23.1 in c:\\users\\user\\appdata\\roaming\\python\\python39\\site-packages (from tensorflow-intel==2.11.0->tensorflow->stocker) (0.29.0)\n",
      "Requirement already satisfied: typing-extensions>=3.6.6 in d:\\anaconda3\\lib\\site-packages (from tensorflow-intel==2.11.0->tensorflow->stocker) (4.4.0)\n",
      "Requirement already satisfied: termcolor>=1.1.0 in c:\\users\\user\\appdata\\roaming\\python\\python39\\site-packages (from tensorflow-intel==2.11.0->tensorflow->stocker) (2.1.1)\n",
      "Requirement already satisfied: opt-einsum>=2.3.2 in c:\\users\\user\\appdata\\roaming\\python\\python39\\site-packages (from tensorflow-intel==2.11.0->tensorflow->stocker) (3.3.0)\n",
      "Requirement already satisfied: libclang>=13.0.0 in c:\\users\\user\\appdata\\roaming\\python\\python39\\site-packages (from tensorflow-intel==2.11.0->tensorflow->stocker) (14.0.6)\n",
      "Requirement already satisfied: setuptools in d:\\anaconda3\\lib\\site-packages (from tensorflow-intel==2.11.0->tensorflow->stocker) (65.5.0)\n",
      "Requirement already satisfied: gast<=0.4.0,>=0.2.1 in c:\\users\\user\\appdata\\roaming\\python\\python39\\site-packages (from tensorflow-intel==2.11.0->tensorflow->stocker) (0.4.0)\n",
      "Requirement already satisfied: grpcio<2.0,>=1.24.3 in c:\\users\\user\\appdata\\roaming\\python\\python39\\site-packages (from tensorflow-intel==2.11.0->tensorflow->stocker) (1.51.1)\n",
      "Requirement already satisfied: keras<2.12,>=2.11.0 in c:\\users\\user\\appdata\\roaming\\python\\python39\\site-packages (from tensorflow-intel==2.11.0->tensorflow->stocker) (2.11.0)\n",
      "Requirement already satisfied: wrapt>=1.11.0 in d:\\anaconda3\\lib\\site-packages (from tensorflow-intel==2.11.0->tensorflow->stocker) (1.14.1)\n",
      "Requirement already satisfied: absl-py>=1.0.0 in c:\\users\\user\\appdata\\roaming\\python\\python39\\site-packages (from tensorflow-intel==2.11.0->tensorflow->stocker) (1.3.0)\n",
      "Requirement already satisfied: flatbuffers>=2.0 in c:\\users\\user\\appdata\\roaming\\python\\python39\\site-packages (from tensorflow-intel==2.11.0->tensorflow->stocker) (22.12.6)\n",
      "Requirement already satisfied: six>=1.12.0 in d:\\anaconda3\\lib\\site-packages (from tensorflow-intel==2.11.0->tensorflow->stocker) (1.16.0)\n",
      "Requirement already satisfied: astunparse>=1.6.0 in c:\\users\\user\\appdata\\roaming\\python\\python39\\site-packages (from tensorflow-intel==2.11.0->tensorflow->stocker) (1.6.3)\n",
      "Requirement already satisfied: cryptography>=3.3.2 in d:\\anaconda3\\lib\\site-packages (from yfinance->stocker) (38.0.1)\n",
      "Requirement already satisfied: beautifulsoup4>=4.11.1 in d:\\anaconda3\\lib\\site-packages (from yfinance->stocker) (4.11.1)\n",
      "Requirement already satisfied: multitasking>=0.0.7 in c:\\users\\user\\appdata\\roaming\\python\\python39\\site-packages (from yfinance->stocker) (0.0.11)\n",
      "Requirement already satisfied: frozendict>=2.3.4 in c:\\users\\user\\appdata\\roaming\\python\\python39\\site-packages (from yfinance->stocker) (2.3.4)\n",
      "Requirement already satisfied: html5lib>=1.1 in c:\\users\\user\\appdata\\roaming\\python\\python39\\site-packages (from yfinance->stocker) (1.1)\n",
      "Requirement already satisfied: appdirs>=1.4.4 in d:\\anaconda3\\lib\\site-packages (from yfinance->stocker) (1.4.4)\n",
      "Requirement already satisfied: soupsieve>1.2 in d:\\anaconda3\\lib\\site-packages (from beautifulsoup4>=4.11.1->yfinance->stocker) (2.3.2.post1)\n",
      "Requirement already satisfied: cffi>=1.12 in d:\\anaconda3\\lib\\site-packages (from cryptography>=3.3.2->yfinance->stocker) (1.15.1)\n",
      "Requirement already satisfied: webencodings in d:\\anaconda3\\lib\\site-packages (from html5lib>=1.1->yfinance->stocker) (0.5.1)\n",
      "Requirement already satisfied: wheel<1.0,>=0.23.0 in d:\\anaconda3\\lib\\site-packages (from astunparse>=1.6.0->tensorflow-intel==2.11.0->tensorflow->stocker) (0.37.1)\n",
      "Requirement already satisfied: pycparser in d:\\anaconda3\\lib\\site-packages (from cffi>=1.12->cryptography>=3.3.2->yfinance->stocker) (2.21)\n",
      "Requirement already satisfied: werkzeug>=1.0.1 in d:\\anaconda3\\lib\\site-packages (from tensorboard<2.12,>=2.11->tensorflow-intel==2.11.0->tensorflow->stocker) (2.0.3)\n",
      "Requirement already satisfied: tensorboard-data-server<0.7.0,>=0.6.0 in c:\\users\\user\\appdata\\roaming\\python\\python39\\site-packages (from tensorboard<2.12,>=2.11->tensorflow-intel==2.11.0->tensorflow->stocker) (0.6.1)\n",
      "Requirement already satisfied: google-auth<3,>=1.6.3 in c:\\users\\user\\appdata\\roaming\\python\\python39\\site-packages (from tensorboard<2.12,>=2.11->tensorflow-intel==2.11.0->tensorflow->stocker) (2.15.0)\n",
      "Requirement already satisfied: tensorboard-plugin-wit>=1.6.0 in c:\\users\\user\\appdata\\roaming\\python\\python39\\site-packages (from tensorboard<2.12,>=2.11->tensorflow-intel==2.11.0->tensorflow->stocker) (1.8.1)\n",
      "Requirement already satisfied: markdown>=2.6.8 in d:\\anaconda3\\lib\\site-packages (from tensorboard<2.12,>=2.11->tensorflow-intel==2.11.0->tensorflow->stocker) (3.3.4)\n",
      "Requirement already satisfied: google-auth-oauthlib<0.5,>=0.4.1 in c:\\users\\user\\appdata\\roaming\\python\\python39\\site-packages (from tensorboard<2.12,>=2.11->tensorflow-intel==2.11.0->tensorflow->stocker) (0.4.6)\n",
      "Requirement already satisfied: cachetools<6.0,>=2.0.0 in c:\\users\\user\\appdata\\roaming\\python\\python39\\site-packages (from google-auth<3,>=1.6.3->tensorboard<2.12,>=2.11->tensorflow-intel==2.11.0->tensorflow->stocker) (5.2.0)\n",
      "Requirement already satisfied: rsa<5,>=3.1.4 in c:\\users\\user\\appdata\\roaming\\python\\python39\\site-packages (from google-auth<3,>=1.6.3->tensorboard<2.12,>=2.11->tensorflow-intel==2.11.0->tensorflow->stocker) (4.9)\n",
      "Requirement already satisfied: pyasn1-modules>=0.2.1 in d:\\anaconda3\\lib\\site-packages (from google-auth<3,>=1.6.3->tensorboard<2.12,>=2.11->tensorflow-intel==2.11.0->tensorflow->stocker) (0.2.8)\n",
      "Requirement already satisfied: requests-oauthlib>=0.7.0 in c:\\users\\user\\appdata\\roaming\\python\\python39\\site-packages (from google-auth-oauthlib<0.5,>=0.4.1->tensorboard<2.12,>=2.11->tensorflow-intel==2.11.0->tensorflow->stocker) (1.3.1)\n",
      "Requirement already satisfied: pyasn1<0.5.0,>=0.4.6 in d:\\anaconda3\\lib\\site-packages (from pyasn1-modules>=0.2.1->google-auth<3,>=1.6.3->tensorboard<2.12,>=2.11->tensorflow-intel==2.11.0->tensorflow->stocker) (0.4.8)\n",
      "Requirement already satisfied: oauthlib>=3.0.0 in c:\\users\\user\\appdata\\roaming\\python\\python39\\site-packages (from requests-oauthlib>=0.7.0->google-auth-oauthlib<0.5,>=0.4.1->tensorboard<2.12,>=2.11->tensorflow-intel==2.11.0->tensorflow->stocker) (3.2.2)\n",
      "Installing collected packages: tensorflow-intel, tensorflow, stocker\n",
      "Successfully installed stocker-0.1.11 tensorflow-2.11.0 tensorflow-intel-2.11.0\n"
     ]
    },
    {
     "name": "stderr",
     "output_type": "stream",
     "text": [
      "  WARNING: The scripts estimator_ckpt_converter.exe, import_pb_to_tensorboard.exe, saved_model_cli.exe, tensorboard.exe, tf_upgrade_v2.exe, tflite_convert.exe, toco.exe and toco_from_protos.exe are installed in 'C:\\Users\\user\\AppData\\Roaming\\Python\\Python39\\Scripts' which is not on PATH.\n",
      "  Consider adding this directory to PATH or, if you prefer to suppress this warning, use --no-warn-script-location.\n"
     ]
    },
    {
     "name": "stdout",
     "output_type": "stream",
     "text": [
      "Defaulting to user installation because normal site-packages is not writeable\n",
      "Requirement already satisfied: yfinance in c:\\users\\user\\appdata\\roaming\\python\\python39\\site-packages (0.2.3)\n",
      "Requirement already satisfied: requests>=2.26 in d:\\anaconda3\\lib\\site-packages (from yfinance) (2.28.1)\n",
      "Requirement already satisfied: beautifulsoup4>=4.11.1 in d:\\anaconda3\\lib\\site-packages (from yfinance) (4.11.1)\n",
      "Requirement already satisfied: numpy>=1.16.5 in c:\\users\\user\\appdata\\roaming\\python\\python39\\site-packages (from yfinance) (1.24.0)\n",
      "Requirement already satisfied: lxml>=4.9.1 in d:\\anaconda3\\lib\\site-packages (from yfinance) (4.9.1)\n",
      "Requirement already satisfied: pytz>=2022.5 in c:\\users\\user\\appdata\\roaming\\python\\python39\\site-packages (from yfinance) (2022.7)\n",
      "Requirement already satisfied: multitasking>=0.0.7 in c:\\users\\user\\appdata\\roaming\\python\\python39\\site-packages (from yfinance) (0.0.11)\n",
      "Requirement already satisfied: frozendict>=2.3.4 in c:\\users\\user\\appdata\\roaming\\python\\python39\\site-packages (from yfinance) (2.3.4)\n",
      "Requirement already satisfied: pandas>=1.3.0 in c:\\users\\user\\appdata\\roaming\\python\\python39\\site-packages (from yfinance) (1.5.2)\n",
      "Requirement already satisfied: cryptography>=3.3.2 in d:\\anaconda3\\lib\\site-packages (from yfinance) (38.0.1)\n",
      "Requirement already satisfied: appdirs>=1.4.4 in d:\\anaconda3\\lib\\site-packages (from yfinance) (1.4.4)\n",
      "Requirement already satisfied: html5lib>=1.1 in c:\\users\\user\\appdata\\roaming\\python\\python39\\site-packages (from yfinance) (1.1)\n",
      "Requirement already satisfied: soupsieve>1.2 in d:\\anaconda3\\lib\\site-packages (from beautifulsoup4>=4.11.1->yfinance) (2.3.2.post1)\n",
      "Requirement already satisfied: cffi>=1.12 in d:\\anaconda3\\lib\\site-packages (from cryptography>=3.3.2->yfinance) (1.15.1)\n",
      "Requirement already satisfied: webencodings in d:\\anaconda3\\lib\\site-packages (from html5lib>=1.1->yfinance) (0.5.1)\n",
      "Requirement already satisfied: six>=1.9 in d:\\anaconda3\\lib\\site-packages (from html5lib>=1.1->yfinance) (1.16.0)\n",
      "Requirement already satisfied: python-dateutil>=2.8.1 in d:\\anaconda3\\lib\\site-packages (from pandas>=1.3.0->yfinance) (2.8.2)\n",
      "Requirement already satisfied: idna<4,>=2.5 in d:\\anaconda3\\lib\\site-packages (from requests>=2.26->yfinance) (3.4)\n",
      "Requirement already satisfied: certifi>=2017.4.17 in d:\\anaconda3\\lib\\site-packages (from requests>=2.26->yfinance) (2022.6.15)\n",
      "Requirement already satisfied: urllib3<1.27,>=1.21.1 in d:\\anaconda3\\lib\\site-packages (from requests>=2.26->yfinance) (1.26.12)\n",
      "Requirement already satisfied: charset-normalizer<3,>=2 in d:\\anaconda3\\lib\\site-packages (from requests>=2.26->yfinance) (2.0.4)\n",
      "Requirement already satisfied: pycparser in d:\\anaconda3\\lib\\site-packages (from cffi>=1.12->cryptography>=3.3.2->yfinance) (2.21)\n"
     ]
    }
   ],
   "source": [
    "!pip install stocker\n",
    "!pip install yfinance"
   ]
  },
  {
   "cell_type": "code",
   "execution_count": 4,
   "id": "e5c251e7",
   "metadata": {},
   "outputs": [
    {
     "name": "stdout",
     "output_type": "stream",
     "text": [
      "[*********************100%***********************]  1 of 1 completed\n"
     ]
    }
   ],
   "source": [
    "import pandas as pd\n",
    "import yfinance as yf\n",
    "\n",
    "stockNo = \"2330.TW\"\n",
    "start_date = '2015-01-01'\n",
    "df = yf.download(stockNo, start=start_date)\n",
    "df = df.reset_index()"
   ]
  },
  {
   "cell_type": "code",
   "execution_count": 5,
   "id": "87189098",
   "metadata": {},
   "outputs": [
    {
     "ename": "ImportError",
     "evalue": "cannot import name 'Stocker' from 'stocker' (C:\\Users\\user\\AppData\\Roaming\\Python\\Python39\\site-packages\\stocker\\__init__.py)",
     "output_type": "error",
     "traceback": [
      "\u001b[1;31m---------------------------------------------------------------------------\u001b[0m",
      "\u001b[1;31mImportError\u001b[0m                               Traceback (most recent call last)",
      "\u001b[1;32m~\\AppData\\Local\\Temp\\ipykernel_13600\\3846624552.py\u001b[0m in \u001b[0;36m<module>\u001b[1;34m\u001b[0m\n\u001b[1;32m----> 1\u001b[1;33m \u001b[1;32mfrom\u001b[0m \u001b[0mstocker\u001b[0m \u001b[1;32mimport\u001b[0m \u001b[0mStocker\u001b[0m\u001b[1;33m\u001b[0m\u001b[1;33m\u001b[0m\u001b[0m\n\u001b[0m\u001b[0;32m      2\u001b[0m \u001b[0mstock\u001b[0m \u001b[1;33m=\u001b[0m \u001b[0mStocker\u001b[0m\u001b[1;33m(\u001b[0m\u001b[0mstockNo\u001b[0m\u001b[1;33m,\u001b[0m \u001b[0mdf\u001b[0m\u001b[1;33m)\u001b[0m\u001b[1;33m\u001b[0m\u001b[1;33m\u001b[0m\u001b[0m\n",
      "\u001b[1;31mImportError\u001b[0m: cannot import name 'Stocker' from 'stocker' (C:\\Users\\user\\AppData\\Roaming\\Python\\Python39\\site-packages\\stocker\\__init__.py)"
     ]
    }
   ],
   "source": [
    "from stocker import Stocker\n",
    "stock = Stocker(stockNo, df)"
   ]
  },
  {
   "cell_type": "code",
   "execution_count": null,
   "id": "17d564e1",
   "metadata": {},
   "outputs": [],
   "source": [
    "stock.plot_stock()"
   ]
  },
  {
   "cell_type": "code",
   "execution_count": null,
   "id": "0b9385fc",
   "metadata": {},
   "outputs": [],
   "source": [
    "model, model_data = stock.create_prophet_model(days=10)"
   ]
  },
  {
   "cell_type": "code",
   "execution_count": null,
   "id": "28fe9a3d",
   "metadata": {},
   "outputs": [],
   "source": [
    "stock.evaluate_prediction()"
   ]
  },
  {
   "cell_type": "code",
   "execution_count": null,
   "id": "f455f35d",
   "metadata": {},
   "outputs": [],
   "source": [
    "stock.changepoint_prior_analysis(changepoint_priors=[0.001, 0.05, 0.1, 0.2])"
   ]
  },
  {
   "cell_type": "code",
   "execution_count": null,
   "id": "cb36b695",
   "metadata": {},
   "outputs": [],
   "source": [
    "stock.changepoint_prior_scale = 0.5\n",
    "stock.evaluate_prediction()"
   ]
  },
  {
   "cell_type": "code",
   "execution_count": null,
   "id": "4386cf38",
   "metadata": {},
   "outputs": [],
   "source": []
  },
  {
   "cell_type": "code",
   "execution_count": null,
   "id": "5e19ee4b",
   "metadata": {},
   "outputs": [],
   "source": []
  }
 ],
 "metadata": {
  "kernelspec": {
   "display_name": "Python 3 (ipykernel)",
   "language": "python",
   "name": "python3"
  },
  "language_info": {
   "codemirror_mode": {
    "name": "ipython",
    "version": 3
   },
   "file_extension": ".py",
   "mimetype": "text/x-python",
   "name": "python",
   "nbconvert_exporter": "python",
   "pygments_lexer": "ipython3",
   "version": "3.9.15"
  }
 },
 "nbformat": 4,
 "nbformat_minor": 5
}
